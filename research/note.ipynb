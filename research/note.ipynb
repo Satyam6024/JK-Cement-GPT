version https://git-lfs.github.com/spec/v1
oid sha256:20b1f2863257019a62ae875a3bd6b0a9e64cbf28b9cc4edf7caeef3d1587b750
size 1367
